{
  "nbformat": 4,
  "nbformat_minor": 0,
  "metadata": {
    "colab": {
      "name": "ДЗ2_Ермаченко.ipynb",
      "provenance": []
    },
    "kernelspec": {
      "name": "python3",
      "display_name": "Python 3"
    }
  },
  "cells": [
    {
      "cell_type": "code",
      "metadata": {
        "id": "4WlQCRWeS0it"
      },
      "source": [
        "import numpy as np\n"
      ],
      "execution_count": 18,
      "outputs": []
    },
    {
      "cell_type": "markdown",
      "metadata": {
        "id": "vlDDYLJ4S9t8"
      },
      "source": [
        "#1"
      ]
    },
    {
      "cell_type": "markdown",
      "metadata": {
        "id": "KRhA9aVlTCOw"
      },
      "source": [
        "Используем следующие формулы:\n",
        "*   P = K[R|T]\n",
        "*   (u, v, z) = P*(x, y, z, 1)\n",
        "\n",
        "\n",
        "\n",
        "\n"
      ]
    },
    {
      "cell_type": "code",
      "metadata": {
        "id": "1g8DgdY4S9HZ"
      },
      "source": [
        "\n",
        "a = np.deg2rad(45)\n",
        "\n",
        "R =  [[np.cos(a),   -np.sin(a), 0],\n",
        "      [np.sin(a),   np.cos(a),  0],\n",
        "      [0,       0,   1]]"
      ],
      "execution_count": 19,
      "outputs": []
    },
    {
      "cell_type": "code",
      "metadata": {
        "id": "KbiR6VXYTrbE"
      },
      "source": [
        "M = [[400, 0,     960],\n",
        "     [0,   400,   540],\n",
        "     [0,   0,     1]]\n",
        "     \n",
        "K = np.array(M)"
      ],
      "execution_count": 20,
      "outputs": []
    },
    {
      "cell_type": "code",
      "metadata": {
        "id": "dtOttaGsTwXn"
      },
      "source": [
        "Tr = [[0, 0, 10]]\n",
        "\n",
        "T = np.array(Tr).T"
      ],
      "execution_count": 21,
      "outputs": []
    },
    {
      "cell_type": "code",
      "metadata": {
        "colab": {
          "base_uri": "https://localhost:8080/"
        },
        "id": "6I8ZU1p1UCLQ",
        "outputId": "c977af23-981e-4063-8d58-b0bab393e7f3"
      },
      "source": [
        "RT = np.append(R, T, axis=1)\n",
        "print(RT)"
      ],
      "execution_count": 22,
      "outputs": [
        {
          "output_type": "stream",
          "text": [
            "[[ 0.70710678 -0.70710678  0.          0.        ]\n",
            " [ 0.70710678  0.70710678  0.          0.        ]\n",
            " [ 0.          0.          1.         10.        ]]\n"
          ],
          "name": "stdout"
        }
      ]
    },
    {
      "cell_type": "code",
      "metadata": {
        "colab": {
          "base_uri": "https://localhost:8080/"
        },
        "id": "-I0LsnuYUS9d",
        "outputId": "c7009a6d-f20c-4cc2-f167-d76634bb2c82"
      },
      "source": [
        "P = np.matmul(K,RT)\n",
        "print('P= ', P)"
      ],
      "execution_count": 23,
      "outputs": [
        {
          "output_type": "stream",
          "text": [
            "P=  [[ 2.82842712e+02 -2.82842712e+02  9.60000000e+02  9.60000000e+03]\n",
            " [ 2.82842712e+02  2.82842712e+02  5.40000000e+02  5.40000000e+03]\n",
            " [ 0.00000000e+00  0.00000000e+00  1.00000000e+00  1.00000000e+01]]\n"
          ],
          "name": "stdout"
        }
      ]
    },
    {
      "cell_type": "code",
      "metadata": {
        "id": "j5g_nF0DUmJk"
      },
      "source": [
        "point = np.array([[10, -10, 100, 1]]).T"
      ],
      "execution_count": 24,
      "outputs": []
    },
    {
      "cell_type": "code",
      "metadata": {
        "id": "_-neZAqzUrRf"
      },
      "source": [
        "uvValue = np.matmul(P, point)"
      ],
      "execution_count": 25,
      "outputs": []
    },
    {
      "cell_type": "code",
      "metadata": {
        "id": "FUyJlfheU2ez"
      },
      "source": [
        "# Нормализируем\n",
        "pointImage = [np.round(uvValue[0][0]/uvValue[2][0]), np.round(uvValue[1][0]/uvValue[2][0])]"
      ],
      "execution_count": 26,
      "outputs": []
    },
    {
      "cell_type": "code",
      "metadata": {
        "colab": {
          "base_uri": "https://localhost:8080/"
        },
        "id": "Xbmben8aVOdS",
        "outputId": "acea8566-f438-4e66-8d96-c1a207a97d88"
      },
      "source": [
        "print('Image point value ', pointImage)"
      ],
      "execution_count": 27,
      "outputs": [
        {
          "output_type": "stream",
          "text": [
            "Image point value  [1011.0, 540.0]\n"
          ],
          "name": "stdout"
        }
      ]
    },
    {
      "cell_type": "markdown",
      "metadata": {
        "id": "pEsylxvJYFSe"
      },
      "source": [
        "# 3"
      ]
    },
    {
      "cell_type": "markdown",
      "metadata": {
        "id": "spJhMSm_YG_L"
      },
      "source": [
        "Запишем формулу:  q2 = (R + T * nt1 / d) * q1"
      ]
    },
    {
      "cell_type": "markdown",
      "metadata": {
        "id": "MtEi8W-9aWtx"
      },
      "source": [
        "По условию задачи T = 0, тогда H = R\n"
      ]
    },
    {
      "cell_type": "code",
      "metadata": {
        "colab": {
          "base_uri": "https://localhost:8080/"
        },
        "id": "w1l7wg4xae4j",
        "outputId": "a1dffaf3-15f2-496b-88a6-698b8ebaec3f"
      },
      "source": [
        "a = np.deg2rad(30)\n",
        "\n",
        "H =  [[1,   0,               0   ],\n",
        "      [0,   np.cos(a),  -np.sin(a)],\n",
        "      [0,   np.sin(a),   np.cos(a)]]\n",
        "\n",
        "\n",
        "print('Homography matrix = ', H)"
      ],
      "execution_count": 28,
      "outputs": [
        {
          "output_type": "stream",
          "text": [
            "Homography matrix =  [[1, 0, 0], [0, 0.8660254037844387, -0.49999999999999994], [0, 0.49999999999999994, 0.8660254037844387]]\n"
          ],
          "name": "stdout"
        }
      ]
    }
  ]
}