{
  "nbformat": 4,
  "nbformat_minor": 0,
  "metadata": {
    "colab": {
      "name": "ЕрмаченкоДЗ-3.ipynb",
      "provenance": [],
      "collapsed_sections": []
    },
    "kernelspec": {
      "name": "python3",
      "display_name": "Python 3"
    }
  },
  "cells": [
    {
      "cell_type": "code",
      "metadata": {
        "id": "wbPVlUnKLuHo"
      },
      "source": [
        ""
      ],
      "execution_count": null,
      "outputs": []
    },
    {
      "cell_type": "markdown",
      "metadata": {
        "id": "sZ_50oMaL456"
      },
      "source": [
        "## 1"
      ]
    },
    {
      "cell_type": "markdown",
      "metadata": {
        "id": "H3LTbK_BMAE6"
      },
      "source": [
        "Первая камера повернута относительно второй на 45 градусов по оси z и сдвинута\n",
        "на 10 по оси x (в системе отсчета, связанной с первой камерой). У обоих камер\n",
        "матрицы внутренних параметров единичные. Найти фундаментальную матрицу."
      ]
    },
    {
      "cell_type": "markdown",
      "metadata": {
        "id": "6x99yj5yMGbs"
      },
      "source": [
        "Запишем формулу фундаментальной матрицы:\n",
        "F = [T]xR"
      ]
    },
    {
      "cell_type": "markdown",
      "metadata": {
        "id": "W41PKErGYIZt"
      },
      "source": [
        "Векторное произведение двух векторов в координатах в правом ортонормированном базисе можно записать как произведение кососимметрической матрицы и вектора:![image.png](data:image/png;base64,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)"
      ]
    },
    {
      "cell_type": "code",
      "metadata": {
        "id": "8MwGoQhfYgV7"
      },
      "source": [
        ""
      ],
      "execution_count": null,
      "outputs": []
    },
    {
      "cell_type": "code",
      "metadata": {
        "id": "HPkCTFI0L7mO"
      },
      "source": [
        "\n",
        "import cv2\n",
        "import numpy as np\n",
        "\n",
        "\n",
        "a = np.deg2rad(45)\n",
        "\n",
        "R =  np.array([[np.cos(a),   -np.sin(a),   0],\n",
        "      [np.sin(a),   np.cos(a),   0],\n",
        "      [0, 0,  1]])"
      ],
      "execution_count": 24,
      "outputs": []
    },
    {
      "cell_type": "code",
      "metadata": {
        "id": "ucSiD2w_NdRl"
      },
      "source": [
        "T = np.array([[0, 0,   0],\n",
        "     [0, 0, -10],\n",
        "     [0, 10,  0]])"
      ],
      "execution_count": 25,
      "outputs": []
    },
    {
      "cell_type": "markdown",
      "metadata": {
        "id": "lWSipDw-Nrd-"
      },
      "source": [
        "Вычислим F пл формуле:"
      ]
    },
    {
      "cell_type": "code",
      "metadata": {
        "id": "f1p5lWYxNnWs"
      },
      "source": [
        "F_task1 = np.matmul(T, R)"
      ],
      "execution_count": 26,
      "outputs": []
    },
    {
      "cell_type": "code",
      "metadata": {
        "colab": {
          "base_uri": "https://localhost:8080/"
        },
        "id": "SVEGBPN3NqXQ",
        "outputId": "aba08c4b-3be6-4c54-cbd2-4fe8acd8e930"
      },
      "source": [
        "print('F = ', F_task1)"
      ],
      "execution_count": 27,
      "outputs": [
        {
          "output_type": "stream",
          "text": [
            "F =  [[  0.           0.           0.        ]\n",
            " [  0.           0.         -10.        ]\n",
            " [  7.07106781   7.07106781   0.        ]]\n"
          ],
          "name": "stdout"
        }
      ]
    },
    {
      "cell_type": "markdown",
      "metadata": {
        "id": "OH3vXcGwctx3"
      },
      "source": [
        "# 2"
      ]
    },
    {
      "cell_type": "markdown",
      "metadata": {
        "id": "uJd3jNNm0SKH"
      },
      "source": [
        "Первая камера повернута относительно мировой системы координат на 45\n",
        "градусов по оси z, а вторая – на -45 градусов по оси у и сдвинута на 10 по оси x. У\n",
        "обоих камер матрицы внутренних параметров единичные. Найти\n",
        "фундаментальную матрицу"
      ]
    },
    {
      "cell_type": "markdown",
      "metadata": {
        "id": "ff4u2izEcvjM"
      },
      "source": [
        "Воспользуемся следующими формулами:\n",
        "$$F=[e^{'}]_{x}P_{2}P_{1}^{+}$$\n",
        "$$e^{'} = P_{2}O$$\n",
        "$$O_{1} = (0,0,0) + T_{1}$$"
      ]
    },
    {
      "cell_type": "code",
      "metadata": {
        "id": "Hfg-y0yM4Wnf"
      },
      "source": [
        ""
      ],
      "execution_count": null,
      "outputs": []
    },
    {
      "cell_type": "code",
      "metadata": {
        "id": "mHdXoOxhfUaw"
      },
      "source": [
        "a1 = np.deg2rad(45)\n",
        "a2 = np.deg2rad(-45)\n",
        "\n",
        "R1 =[[np.cos(a1),   -np.sin(a1),   0],\n",
        "      [np.sin(a1),   np.cos(a1),   0],\n",
        "      [0,               0,               1]]\n",
        "R2 =[[np.cos(a2),0,np.sin(a2)],\n",
        "      [0,1,0],\n",
        "      [-np.sin(a2),0,np.cos(a2)]]\n",
        "\n",
        "T1 = np.array([[0, 0, 0]]).T\n",
        "T2 = np.array([[10, 0, 0]]).T\n",
        "\n",
        "\n",
        "P1 = np.concatenate((R1, T1), axis=1)\n",
        "P2 = np.concatenate((R2, T2), axis=1)"
      ],
      "execution_count": 16,
      "outputs": []
    },
    {
      "cell_type": "markdown",
      "metadata": {
        "id": "AKiz5zn9gGpM"
      },
      "source": [
        "Найдем обратную матрицу для P1:"
      ]
    },
    {
      "cell_type": "code",
      "metadata": {
        "id": "hDlOV_bHgMOO"
      },
      "source": [
        "P1_plus = np.linalg.pinv(P1)"
      ],
      "execution_count": 20,
      "outputs": []
    },
    {
      "cell_type": "markdown",
      "metadata": {
        "id": "u2K-7edNiR3_"
      },
      "source": [
        "Найдем e'"
      ]
    },
    {
      "cell_type": "code",
      "metadata": {
        "id": "Wnm2omCviQ_e"
      },
      "source": [
        "\n",
        "O1 = np.array([[0, 0, 0]]).T + T1\n",
        "e = np.matmul(P2,np.append(O1, np.array([1])))"
      ],
      "execution_count": 21,
      "outputs": []
    },
    {
      "cell_type": "markdown",
      "metadata": {
        "id": "d8sdUEvZtNac"
      },
      "source": [
        "воспользуемся предствалением е в качестве кососимметрической матрицы:"
      ]
    },
    {
      "cell_type": "code",
      "metadata": {
        "id": "JTB9nRBBtS-h"
      },
      "source": [
        "e = np.array([[ 0, -e[2],  e[1]  ],\n",
        "       [ e[2], 0, -e[0] ],\n",
        "       [-e[1],  e[0], 0] ])\n"
      ],
      "execution_count": 22,
      "outputs": []
    },
    {
      "cell_type": "markdown",
      "metadata": {
        "id": "V8_wRzfXthrr"
      },
      "source": [
        "Находим фундоментальную  матрицу:"
      ]
    },
    {
      "cell_type": "code",
      "metadata": {
        "colab": {
          "base_uri": "https://localhost:8080/"
        },
        "id": "XD9AiPZMthFQ",
        "outputId": "d463ff90-1775-45cc-c503-9430029d5449"
      },
      "source": [
        "tmp = np.matmul(e, P2)\n",
        "F = np.matmul(tmp, P1_plus)\n",
        "print('F= ', F)"
      ],
      "execution_count": 23,
      "outputs": [
        {
          "output_type": "stream",
          "text": [
            "F=  [[ 0.          0.          0.        ]\n",
            " [-5.         -5.         -7.07106781]\n",
            " [-7.07106781  7.07106781  0.        ]]\n"
          ],
          "name": "stdout"
        }
      ]
    },
    {
      "cell_type": "markdown",
      "metadata": {
        "id": "V_M8FDyU0WJ1"
      },
      "source": [
        "# 4"
      ]
    },
    {
      "cell_type": "markdown",
      "metadata": {
        "id": "URxQ0bMK0bGM"
      },
      "source": [
        "В задаче 1 найти эпиполярную линию, проходящую через точку (0,0) на первом\n",
        "изображении, и соответствующую ей линию на втором изображении."
      ]
    },
    {
      "cell_type": "markdown",
      "metadata": {
        "id": "zyqydOSQ0ZTG"
      },
      "source": [
        "Воспользуемся следующими формулами:\n",
        "$$l_{2}= Fq_{1}$$\n",
        "$$l=q_{2}^{T}F$$\n",
        "$$q_{2}=P_{2}P_{1}^{+}q_{1}$$"
      ]
    },
    {
      "cell_type": "code",
      "metadata": {
        "id": "Ly7CIQaC6s1q"
      },
      "source": [
        "a = np.deg2rad(45)"
      ],
      "execution_count": 29,
      "outputs": []
    },
    {
      "cell_type": "code",
      "metadata": {
        "id": "Vfbq-VxZ4h8n"
      },
      "source": [
        "R = np.array([[np.cos(a),   -np.sin(a),   0],\n",
        "      [np.sin(a),   np.cos(a),   0],\n",
        "      [0,0,  1]])"
      ],
      "execution_count": 30,
      "outputs": []
    },
    {
      "cell_type": "code",
      "metadata": {
        "id": "scZExQy227_3"
      },
      "source": [
        "T = np.array([[10, 0, 0]]).T"
      ],
      "execution_count": 31,
      "outputs": []
    },
    {
      "cell_type": "code",
      "metadata": {
        "id": "O4mFu2N74x73"
      },
      "source": [
        " P2 = np.append(R,T, axis=1)"
      ],
      "execution_count": 32,
      "outputs": []
    },
    {
      "cell_type": "code",
      "metadata": {
        "id": "-DXKmRs61i5T"
      },
      "source": [
        "q1 = np.array([[0, 0, 1]]).T\n",
        "tmp = np.matmul(P2, P1_plus)\n",
        "q2 = np.matmul(tmp, q1)\n",
        "l2 = np.matmul(F_task1, q1).T\n",
        "l1 = np.matmul(q2.T,F_task1)"
      ],
      "execution_count": 37,
      "outputs": []
    },
    {
      "cell_type": "code",
      "metadata": {
        "colab": {
          "base_uri": "https://localhost:8080/"
        },
        "id": "_L2cukQy6A3v",
        "outputId": "eca39ab1-4f11-4088-eb9c-daa5f7b93d41"
      },
      "source": [
        "print('l1 = ', l1)\n",
        "print('l2= ', l2)"
      ],
      "execution_count": 38,
      "outputs": [
        {
          "output_type": "stream",
          "text": [
            "l1 =  [[7.07106781 7.07106781 0.        ]]\n",
            "l2=  [[  0. -10.   0.]]\n"
          ],
          "name": "stdout"
        }
      ]
    },
    {
      "cell_type": "markdown",
      "metadata": {
        "id": "COnmENpXgp4t"
      },
      "source": [
        ""
      ]
    }
  ]
}