{
  "nbformat": 4,
  "nbformat_minor": 0,
  "metadata": {
    "colab": {
      "name": "Untitled",
      "provenance": [],
      "collapsed_sections": [],
      "authorship_tag": "ABX9TyMOZiIa4E22aVjedCoLa7vo",
      "include_colab_link": true
    },
    "kernelspec": {
      "name": "python3",
      "display_name": "Python 3"
    }
  },
  "cells": [
    {
      "cell_type": "markdown",
      "metadata": {
        "id": "view-in-github",
        "colab_type": "text"
      },
      "source": [
        "<a href=\"https://colab.research.google.com/github/ErmachenkoBoris/three-dimensional-computer-vision/blob/master/homeWork28-10.ipynb\" target=\"_parent\"><img src=\"https://colab.research.google.com/assets/colab-badge.svg\" alt=\"Open In Colab\"/></a>"
      ]
    },
    {
      "cell_type": "code",
      "metadata": {
        "id": "CV91SfrYveUv"
      },
      "source": [
        ""
      ],
      "execution_count": null,
      "outputs": []
    },
    {
      "cell_type": "markdown",
      "metadata": {
        "id": "OYiffR9gvfaM"
      },
      "source": [
        "### Ермаченко Борис, домашнее задание от 28.10.2020"
      ]
    },
    {
      "cell_type": "markdown",
      "metadata": {
        "id": "LNVN7O3TvmUw"
      },
      "source": [
        "## №1"
      ]
    },
    {
      "cell_type": "code",
      "metadata": {
        "id": "Mpww2DMxwNuK",
        "outputId": "11571c0c-d579-43f8-847d-ab0bc83d58ff",
        "colab": {
          "base_uri": "https://localhost:8080/"
        }
      },
      "source": [
        "\n",
        "!pip install opencv-python"
      ],
      "execution_count": null,
      "outputs": [
        {
          "output_type": "stream",
          "text": [
            "Requirement already satisfied: opencv-python in /usr/local/lib/python3.6/dist-packages (4.1.2.30)\n",
            "Requirement already satisfied: numpy>=1.11.3 in /usr/local/lib/python3.6/dist-packages (from opencv-python) (1.18.5)\n"
          ],
          "name": "stdout"
        }
      ]
    },
    {
      "cell_type": "code",
      "metadata": {
        "id": "XABQAf6vwVor"
      },
      "source": [
        "import numpy as np\n",
        "import cv2\n"
      ],
      "execution_count": null,
      "outputs": []
    },
    {
      "cell_type": "code",
      "metadata": {
        "id": "4AOyobDa0U65"
      },
      "source": [
        "from IPython.display import Image "
      ],
      "execution_count": null,
      "outputs": []
    },
    {
      "cell_type": "markdown",
      "metadata": {
        "id": "9qo3Wcldw4fb"
      },
      "source": [
        "Чтобы найти ближайшую ортогональную матрицу, используется сингулярное разложение.\n",
        "Применим формулу X = UV^T"
      ]
    },
    {
      "cell_type": "code",
      "metadata": {
        "id": "wwthIKt7wXxR"
      },
      "source": [
        "\n",
        "A = [[0.5,        2.16506351, 0.4330127],\n",
        "     [-0.8660254, 1.25,       0.25     ],\n",
        "     [0,          0.5,        2.5      ]]\n",
        "     \n"
      ],
      "execution_count": null,
      "outputs": []
    },
    {
      "cell_type": "code",
      "metadata": {
        "id": "f1ztiGAkxiu_"
      },
      "source": [
        "A = np.array(A)"
      ],
      "execution_count": null,
      "outputs": []
    },
    {
      "cell_type": "code",
      "metadata": {
        "id": "Q4AR6_ZSxlm-"
      },
      "source": [
        "D, U, Vt = cv2.SVDecomp(A)"
      ],
      "execution_count": null,
      "outputs": []
    },
    {
      "cell_type": "code",
      "metadata": {
        "id": "ypZQYkdtxxyG"
      },
      "source": [
        "X = np.matmul(U, Vt)\n"
      ],
      "execution_count": null,
      "outputs": []
    },
    {
      "cell_type": "code",
      "metadata": {
        "id": "pIczAABCx5au",
        "outputId": "8447777f-ffe3-487b-dcdb-109cfa4e8a4d",
        "colab": {
          "base_uri": "https://localhost:8080/"
        }
      },
      "source": [
        "print(X)"
      ],
      "execution_count": null,
      "outputs": [
        {
          "output_type": "stream",
          "text": [
            "[[ 5.00000000e-01  8.66025404e-01 -3.87999696e-10]\n",
            " [-8.66025404e-01  5.00000000e-01  1.65509423e-11]\n",
            " [ 2.08333333e-10  3.27741947e-10  1.00000000e+00]]\n"
          ],
          "name": "stdout"
        }
      ]
    },
    {
      "cell_type": "code",
      "metadata": {
        "id": "kbbbX5mj0YqE",
        "outputId": "e7373296-f6f3-4b44-f33b-a84e908e2f9a",
        "colab": {
          "base_uri": "https://localhost:8080/",
          "height": 205
        }
      },
      "source": [
        "display(Image(url='https://i.stack.imgur.com/HRe73.jpg', \n",
        "              width = 200)\n",
        "       ) \n",
        "# матрицы поворота в трехмерном пространстве"
      ],
      "execution_count": null,
      "outputs": [
        {
          "output_type": "display_data",
          "data": {
            "text/html": [
              "<img src=\"https://i.stack.imgur.com/HRe73.jpg\" width=\"200\"/>"
            ],
            "text/plain": [
              "<IPython.core.display.Image object>"
            ]
          },
          "metadata": {
            "tags": []
          }
        }
      ]
    },
    {
      "cell_type": "markdown",
      "metadata": {
        "id": "_z5FX2Bp0ur5"
      },
      "source": [
        "Таким образом, матрица похожа на матрицу поворота вокруг оси Z"
      ]
    },
    {
      "cell_type": "code",
      "metadata": {
        "id": "8VcV8B7MzrEF",
        "outputId": "d8ad7b4c-8084-4491-ce96-0ade58a23b71",
        "colab": {
          "base_uri": "https://localhost:8080/"
        }
      },
      "source": [
        "\n",
        "np.rad2deg(np.arcsin(-0.866025404))"
      ],
      "execution_count": null,
      "outputs": [
        {
          "output_type": "execute_result",
          "data": {
            "text/plain": [
              "-60.00000002470152"
            ]
          },
          "metadata": {
            "tags": []
          },
          "execution_count": 9
        }
      ]
    },
    {
      "cell_type": "markdown",
      "metadata": {
        "id": "uVGmPjid1PAs"
      },
      "source": [
        "на 60 градусов"
      ]
    },
    {
      "cell_type": "markdown",
      "metadata": {
        "id": "TZlz1-E71RjV"
      },
      "source": [
        "## №2"
      ]
    },
    {
      "cell_type": "code",
      "metadata": {
        "id": "2mb5wN3k1bvx"
      },
      "source": [
        "def createMatrix(n):\n",
        "    arr = [[1/((i+1)+(j+1)-1) for j in range(n)] for i in range(n)]\n",
        "    A = np.array(arr)\n",
        "    return A\n",
        "    # нумерация с 1, чтобы избежать деление на ноль "
      ],
      "execution_count": null,
      "outputs": []
    },
    {
      "cell_type": "code",
      "metadata": {
        "id": "sioS7oDu497p"
      },
      "source": [
        "A = createMatrix(3)"
      ],
      "execution_count": null,
      "outputs": []
    },
    {
      "cell_type": "code",
      "metadata": {
        "id": "dIdLjvBx5Aal",
        "outputId": "265b0acd-f837-46fa-f740-485f2326ad83",
        "colab": {
          "base_uri": "https://localhost:8080/"
        }
      },
      "source": [
        "print(A)"
      ],
      "execution_count": null,
      "outputs": [
        {
          "output_type": "stream",
          "text": [
            "[[1.         0.5        0.33333333]\n",
            " [0.5        0.33333333 0.25      ]\n",
            " [0.33333333 0.25       0.2       ]]\n"
          ],
          "name": "stdout"
        }
      ]
    },
    {
      "cell_type": "markdown",
      "metadata": {
        "id": "CIP-F1swC79G"
      },
      "source": [
        "Будем искать обратную матрицу по формуле : X = VD^(-1)U^t, где D^(-1) - псевдообратная к матрице D"
      ]
    },
    {
      "cell_type": "code",
      "metadata": {
        "id": "k7rGp5UdFRWh"
      },
      "source": [
        "def findInvMatrix(A):\n",
        "  D, U, Vt = cv2.SVDecomp(A)\n",
        "  V = Vt.transpose()\n",
        "  Ut = U.transpose()\n",
        "  Dx = np.diag(1 / D.flatten())\n",
        "  #tmp = np.matmul(V, Dx)\n",
        "  #X = np.matmul(tmp, Ut)\n",
        "  X = V.dot(Dx).dot(Ut)\n",
        "  return X"
      ],
      "execution_count": null,
      "outputs": []
    },
    {
      "cell_type": "code",
      "metadata": {
        "id": "7TXPdvqyEPlB",
        "outputId": "b9f7e625-c94e-41bc-f8e2-f3912a899361",
        "colab": {
          "base_uri": "https://localhost:8080/"
        }
      },
      "source": [
        "matrix1 = findInvMatrix(A)\n",
        "print(matrix1)\n",
        "# Обратная матрица для N = 3"
      ],
      "execution_count": null,
      "outputs": [
        {
          "output_type": "stream",
          "text": [
            "[[   9.  -36.   30.]\n",
            " [ -36.  192. -180.]\n",
            " [  30. -180.  180.]]\n"
          ],
          "name": "stdout"
        }
      ]
    },
    {
      "cell_type": "code",
      "metadata": {
        "id": "e74TjzzkH8rb",
        "outputId": "7395a0a7-3c0d-428d-afbd-fd6734aef6ff",
        "colab": {
          "base_uri": "https://localhost:8080/"
        }
      },
      "source": [
        "B = createMatrix(10)\n",
        "print(B)\n",
        "matrix2 = findInvMatrix(B)\n",
        "print(\"Обратная матрица для N = 10\")\n",
        "print(matrix2)\n",
        "# Обратная матрица для N = 3"
      ],
      "execution_count": null,
      "outputs": [
        {
          "output_type": "stream",
          "text": [
            "[[1.         0.5        0.33333333 0.25       0.2        0.16666667\n",
            "  0.14285714 0.125      0.11111111 0.1       ]\n",
            " [0.5        0.33333333 0.25       0.2        0.16666667 0.14285714\n",
            "  0.125      0.11111111 0.1        0.09090909]\n",
            " [0.33333333 0.25       0.2        0.16666667 0.14285714 0.125\n",
            "  0.11111111 0.1        0.09090909 0.08333333]\n",
            " [0.25       0.2        0.16666667 0.14285714 0.125      0.11111111\n",
            "  0.1        0.09090909 0.08333333 0.07692308]\n",
            " [0.2        0.16666667 0.14285714 0.125      0.11111111 0.1\n",
            "  0.09090909 0.08333333 0.07692308 0.07142857]\n",
            " [0.16666667 0.14285714 0.125      0.11111111 0.1        0.09090909\n",
            "  0.08333333 0.07692308 0.07142857 0.06666667]\n",
            " [0.14285714 0.125      0.11111111 0.1        0.09090909 0.08333333\n",
            "  0.07692308 0.07142857 0.06666667 0.0625    ]\n",
            " [0.125      0.11111111 0.1        0.09090909 0.08333333 0.07692308\n",
            "  0.07142857 0.06666667 0.0625     0.05882353]\n",
            " [0.11111111 0.1        0.09090909 0.08333333 0.07692308 0.07142857\n",
            "  0.06666667 0.0625     0.05882353 0.05555556]\n",
            " [0.1        0.09090909 0.08333333 0.07692308 0.07142857 0.06666667\n",
            "  0.0625     0.05882353 0.05555556 0.05263158]]\n",
            "Обратная матрица для N = 10\n",
            "[[ 9.99970174e+01 -4.94974233e+03  7.91945140e+04 -6.00550153e+05\n",
            "   2.52228237e+06 -6.30564712e+06  9.60852939e+06 -8.75056590e+06\n",
            "   4.37525736e+06 -9.23660717e+05]\n",
            " [-4.94974395e+03  3.26677887e+05 -5.88012932e+06  4.75632442e+07\n",
            "  -2.08087520e+08  5.35078614e+08 -8.32339803e+08  7.70052142e+08\n",
            "  -3.89837261e+08  8.31299750e+07]\n",
            " [ 7.91945741e+04 -5.88013153e+06  1.12897551e+08 -9.51259851e+08\n",
            "   4.28064527e+09 -1.12366413e+10  1.77565974e+10 -1.66331645e+10\n",
            "   8.50557053e+09 -1.82886798e+09]\n",
            " [-6.00550879e+05  4.75632799e+07 -9.51260184e+08  8.24421749e+09\n",
            "  -3.78717336e+10  1.00990978e+11 -1.61585142e+11  1.52890979e+11\n",
            "  -7.88342583e+10  1.70694970e+10]\n",
            " [ 2.52228652e+06 -2.08087750e+08  4.28064813e+09 -3.78717452e+10\n",
            "   1.76734429e+11 -4.77182098e+11  7.71202214e+11 -7.35788904e+11\n",
            "   3.82043805e+11 -8.32140440e+10]\n",
            " [-6.30566009e+06  5.35079382e+08 -1.12366520e+10  1.00991036e+11\n",
            "  -4.77182224e+11  1.30140510e+12 -2.12080698e+12  2.03757170e+12\n",
            "  -1.06426686e+12  2.32999891e+11]\n",
            " [ 9.60855281e+06 -8.32341250e+08  1.77566191e+10 -1.61585274e+11\n",
            "   7.71202594e+11 -2.12080746e+12  3.48029986e+12 -3.36361377e+12\n",
            "   1.76589738e+12 -3.88333944e+11]\n",
            " [-8.75059030e+06  7.70053694e+08 -1.66331888e+10  1.52891137e+11\n",
            "  -7.35789415e+11  2.03757255e+12 -3.36361442e+12  3.26751328e+12\n",
            "  -1.72310368e+12  3.80409422e+11]\n",
            " [ 4.37527097e+06 -3.89838146e+08  8.50558475e+09 -7.88343547e+10\n",
            "   3.82044138e+11 -1.06426749e+12  1.76589802e+12 -1.72310396e+12\n",
            "   9.12232395e+11 -2.02092807e+11]\n",
            " [-9.23663864e+05  8.31301830e+07 -1.82887139e+09  1.70695208e+10\n",
            "  -8.32141298e+10  2.33000063e+11 -3.88334140e+11  3.80409539e+11\n",
            "  -2.02092836e+11  4.49095712e+10]]\n"
          ],
          "name": "stdout"
        }
      ]
    },
    {
      "cell_type": "markdown",
      "metadata": {
        "id": "jHnPQmVYYnOy"
      },
      "source": [
        "## №4"
      ]
    },
    {
      "cell_type": "markdown",
      "metadata": {
        "id": "ni0nRoJuYpim"
      },
      "source": [
        "Пусть имеем две прямые ax+by+c= 0, cx+dy+e=0.\n",
        "Будем генерировать a,b,c,d,e случайным образом"
      ]
    },
    {
      "cell_type": "code",
      "metadata": {
        "id": "X2x44lj7aiM3"
      },
      "source": [
        "\n",
        "\n",
        "l1 = np.random.rand(3)\n",
        "l2 = np.random.rand(3)"
      ],
      "execution_count": null,
      "outputs": []
    },
    {
      "cell_type": "code",
      "metadata": {
        "id": "pc7Kcbcga8Yi",
        "outputId": "a6b80442-fadd-4df7-c4d7-fc2ebf8acfcf",
        "colab": {
          "base_uri": "https://localhost:8080/"
        }
      },
      "source": [
        "print(l1, l2)"
      ],
      "execution_count": null,
      "outputs": [
        {
          "output_type": "stream",
          "text": [
            "[0.30323216 0.82876493 0.13844457] [0.56466907 0.9989435  0.92680401]\n"
          ],
          "name": "stdout"
        }
      ]
    },
    {
      "cell_type": "markdown",
      "metadata": {
        "id": "qZcY2N2mbIK1"
      },
      "source": [
        " Чтобы найти точку пересечения двух линий l1,l2, нужно найти их векторное произведение"
      ]
    },
    {
      "cell_type": "code",
      "metadata": {
        "id": "usXv1FGMbVp4",
        "outputId": "472675a8-0185-4ab9-a768-5f191481fd84",
        "colab": {
          "base_uri": "https://localhost:8080/"
        }
      },
      "source": [
        "p = np.cross(l1, l2)\n",
        "print(p)"
      ],
      "execution_count": null,
      "outputs": [
        {
          "output_type": "stream",
          "text": [
            "[ 0.62980436 -0.20286142 -0.16506613]\n"
          ],
          "name": "stdout"
        }
      ]
    },
    {
      "cell_type": "markdown",
      "metadata": {
        "id": "1efOfxDlbUEw"
      },
      "source": [
        "Найдем координаты при проекции на плоскость:\n"
      ]
    },
    {
      "cell_type": "code",
      "metadata": {
        "id": "gS3eZ6wJbELC",
        "outputId": "a8b73343-216e-4a40-f29c-87a6c7d6c045",
        "colab": {
          "base_uri": "https://localhost:8080/"
        }
      },
      "source": [
        "ph=[p[0]/p[2],p[1]/p[2], 1]\n",
        "print(ph)"
      ],
      "execution_count": null,
      "outputs": [
        {
          "output_type": "stream",
          "text": [
            "[-3.815466913245131, 1.2289705697340803, 1]\n"
          ],
          "name": "stdout"
        }
      ]
    },
    {
      "cell_type": "markdown",
      "metadata": {
        "id": "0Pf-MkYcc0uo"
      },
      "source": [
        "## №3\n"
      ]
    },
    {
      "cell_type": "markdown",
      "metadata": {
        "id": "XOpUFwhoc28i"
      },
      "source": [
        "AX=0 .Можно трактовать X как правый сингулярный вектор, тогда соответсвующее сингулярное число должно равняться нулю"
      ]
    },
    {
      "cell_type": "code",
      "metadata": {
        "id": "gTiyPc0PkmQZ",
        "outputId": "3397d7ff-4faf-4d8d-ef3a-34489efa738c",
        "colab": {
          "base_uri": "https://localhost:8080/"
        }
      },
      "source": [
        "arr1 = [[((i)+(j)-1)/1 for j in range(4)] for i in range(4)]\n",
        "C = np.array(arr1)\n",
        "print(C)"
      ],
      "execution_count": null,
      "outputs": [
        {
          "output_type": "stream",
          "text": [
            "[[-1.  0.  1.  2.]\n",
            " [ 0.  1.  2.  3.]\n",
            " [ 1.  2.  3.  4.]\n",
            " [ 2.  3.  4.  5.]]\n"
          ],
          "name": "stdout"
        }
      ]
    },
    {
      "cell_type": "code",
      "metadata": {
        "id": "aa-Nn39YoV_3"
      },
      "source": [
        " D1, U1, Vt1 = cv2.SVDecomp(C)"
      ],
      "execution_count": null,
      "outputs": []
    },
    {
      "cell_type": "code",
      "metadata": {
        "id": "7kfZrcLvk_Ee",
        "outputId": "5b0b6aaa-20ab-44d2-ae6d-aa0046c84721",
        "colab": {
          "base_uri": "https://localhost:8080/"
        }
      },
      "source": [
        "print(D1)"
      ],
      "execution_count": null,
      "outputs": [
        {
          "output_type": "stream",
          "text": [
            "[[1.00000000e+01]\n",
            " [2.00000000e+00]\n",
            " [2.57348462e-16]\n",
            " [9.25320984e-17]]\n"
          ],
          "name": "stdout"
        }
      ]
    },
    {
      "cell_type": "markdown",
      "metadata": {
        "id": "614vZ1YbpJ0N"
      },
      "source": [
        " Заметим, что числа, стоящие в 3 и 4 строке очень малы, считаем их нулями"
      ]
    },
    {
      "cell_type": "markdown",
      "metadata": {
        "id": "dko63fNWpUvO"
      },
      "source": [
        "Произведем проверку:"
      ]
    },
    {
      "cell_type": "code",
      "metadata": {
        "id": "beB3sFmZlHtc",
        "outputId": "b2ac3300-bc63-4d0c-a69e-c59a933a4606",
        "colab": {
          "base_uri": "https://localhost:8080/"
        }
      },
      "source": [
        "V1 = Vt1.transpose()\n",
        "\n",
        "\n",
        "print(np.matmul(C, V1[:,2]))\n",
        "print(np.matmul(C, V1[:,3]))"
      ],
      "execution_count": null,
      "outputs": [
        {
          "output_type": "stream",
          "text": [
            "[ 1.11022302e-16 -3.81639165e-17 -2.22044605e-16 -4.44089210e-16]\n",
            "[0.00000000e+00 2.22044605e-16 0.00000000e+00 0.00000000e+00]\n"
          ],
          "name": "stdout"
        }
      ]
    },
    {
      "cell_type": "markdown",
      "metadata": {
        "id": "GoRnv3MTq4fR"
      },
      "source": [
        "Получили очень маленькие значения. Делаем вывод, что решением будут являться следующие вектора:"
      ]
    },
    {
      "cell_type": "code",
      "metadata": {
        "id": "Ovdxu5ccnEjk",
        "outputId": "7592a304-0012-47f0-a1ff-5396c436f986",
        "colab": {
          "base_uri": "https://localhost:8080/"
        }
      },
      "source": [
        "print( V1[:,2])\n",
        "print( V1[:,3])"
      ],
      "execution_count": null,
      "outputs": [
        {
          "output_type": "stream",
          "text": [
            "[ 0.5349343  -0.80094882 -0.00290524  0.26891977]\n",
            "[ 0.11766605  0.24182842 -0.83665498  0.47716052]\n"
          ],
          "name": "stdout"
        }
      ]
    }
  ]
}