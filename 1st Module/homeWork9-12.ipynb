{
  "nbformat": 4,
  "nbformat_minor": 0,
  "metadata": {
    "colab": {
      "name": "Untitled4.ipynb",
      "provenance": [],
      "collapsed_sections": []
    },
    "kernelspec": {
      "name": "python3",
      "display_name": "Python 3"
    }
  },
  "cells": [
    {
      "cell_type": "code",
      "metadata": {
        "id": "Uicrm6xWVQD5"
      },
      "source": [
        ""
      ],
      "execution_count": null,
      "outputs": []
    },
    {
      "cell_type": "markdown",
      "metadata": {
        "id": "MlQwo7yLVRVV"
      },
      "source": [
        "Домашняч работа 5.\r\n",
        "Ермаченко Борис\r\n",
        "\r\n"
      ]
    },
    {
      "cell_type": "markdown",
      "metadata": {
        "id": "2ZjLe5Bxc8nA"
      },
      "source": [
        "1"
      ]
    },
    {
      "cell_type": "code",
      "metadata": {
        "id": "Lj7PGerxVYBL"
      },
      "source": [
        "from PIL import Image\r\n",
        "import PIL.Image\r\n",
        "\r\n",
        "from urllib.request import urlopen\r\n",
        "import io\r\n",
        "import PIL.ExifTags\r\n",
        "import numpy as np\r\n",
        "import cv2\r\n"
      ],
      "execution_count": 1,
      "outputs": []
    },
    {
      "cell_type": "code",
      "metadata": {
        "id": "pb8UONw7VbMw"
      },
      "source": [
        "img = PIL.Image.open('GOPR01170000.jpg')\r\n",
        "exif_data = img._getexif()\r\n"
      ],
      "execution_count": 11,
      "outputs": []
    },
    {
      "cell_type": "code",
      "metadata": {
        "id": "1BKCRZBiXxea"
      },
      "source": [
        "exif = {\r\n",
        "    PIL.ExifTags.TAGS[k]: v\r\n",
        "    for k, v in img._getexif().items()\r\n",
        "    if k in PIL.ExifTags.TAGS\r\n",
        "}"
      ],
      "execution_count": 12,
      "outputs": []
    },
    {
      "cell_type": "code",
      "metadata": {
        "colab": {
          "base_uri": "https://localhost:8080/"
        },
        "id": "WSP3kxJuX1kK",
        "outputId": "80b2b963-cbb4-4398-ac0a-2813eb436c00"
      },
      "source": [
        "print('exif ', exif)"
      ],
      "execution_count": 13,
      "outputs": [
        {
          "output_type": "stream",
          "text": [
            "exif  {'ColorSpace': 1, 'ExifImageWidth': 960, 'ExifImageHeight': 540, 'ResolutionUnit': 2, 'ExifOffset': 172, 'Software': 'Adobe Photoshop CC 2019 (Macintosh)', 'Orientation': 1, 'DateTime': '2019:01:20 17:55:55', 'XResolution': (720000, 10000), 'YResolution': (720000, 10000)}\n"
          ],
          "name": "stdout"
        }
      ]
    },
    {
      "cell_type": "code",
      "metadata": {
        "colab": {
          "base_uri": "https://localhost:8080/"
        },
        "id": "Q4nGEl_ua8FJ",
        "outputId": "34e94fb8-b298-4a22-9c21-1474ecbf3ddd"
      },
      "source": [
        "print('XResolution ', exif['XResolution'][0])"
      ],
      "execution_count": 20,
      "outputs": [
        {
          "output_type": "stream",
          "text": [
            "XResolution  720000\n"
          ],
          "name": "stdout"
        }
      ]
    },
    {
      "cell_type": "code",
      "metadata": {
        "colab": {
          "base_uri": "https://localhost:8080/"
        },
        "id": "bESlfbsGZmKy",
        "outputId": "19be2bde-6dfa-4894-81d8-7bad28ade2ea"
      },
      "source": [
        "#  Найдем координаты центра\r\n",
        "Cx = exif['ExifImageWidth'] / 2\r\n",
        "Cy = exif['ExifImageHeight'] / 2\r\n",
        "print('Cx =', Cx, 'Cy=', Cy)"
      ],
      "execution_count": 15,
      "outputs": [
        {
          "output_type": "stream",
          "text": [
            "Cx = 480.0 Cy= 270.0\n"
          ],
          "name": "stdout"
        }
      ]
    },
    {
      "cell_type": "code",
      "metadata": {
        "colab": {
          "base_uri": "https://localhost:8080/"
        },
        "id": "XeJX-lisaFrZ",
        "outputId": "b9ab669f-fb26-4872-fb43-8f41babff75d"
      },
      "source": [
        "# Найдем фокусные расстояния\r\n",
        "mmInch = 25.4\r\n",
        "F_length = 24\r\n",
        "Fx = F_length * exif['XResolution'][0] / mmInch\r\n",
        "Fy = F_length * exif['YResolution'][0] / mmInch\r\n",
        "print('Fx =', Fx, 'Fy=', Fy)"
      ],
      "execution_count": 22,
      "outputs": [
        {
          "output_type": "stream",
          "text": [
            "Fx = 680314.9606299213 Fy= 680314.9606299213\n"
          ],
          "name": "stdout"
        }
      ]
    },
    {
      "cell_type": "code",
      "metadata": {
        "colab": {
          "base_uri": "https://localhost:8080/"
        },
        "id": "ge-Mx_LQgJBZ",
        "outputId": "d80520dc-f230-4898-cc9f-a594fce92ca9"
      },
      "source": [
        "    K = np.array([[Fx, 0, Cx],\r\n",
        "                  [0, Fy, Cy],\r\n",
        "                  [0, 0, 1]])\r\n",
        "    print(\"K= \", K)"
      ],
      "execution_count": 25,
      "outputs": [
        {
          "output_type": "stream",
          "text": [
            "K=  [[6.80314961e+05 0.00000000e+00 4.80000000e+02]\n",
            " [0.00000000e+00 6.80314961e+05 2.70000000e+02]\n",
            " [0.00000000e+00 0.00000000e+00 1.00000000e+00]]\n"
          ],
          "name": "stdout"
        }
      ]
    },
    {
      "cell_type": "markdown",
      "metadata": {
        "id": "LXSsKiLVc92b"
      },
      "source": [
        "2"
      ]
    },
    {
      "cell_type": "code",
      "metadata": {
        "id": "_MH9Oz2Wdp-B"
      },
      "source": [
        "cv_file = cv2.FileStorage(\"camera.xml\", cv2.FILE_STORAGE_READ)\r\n"
      ],
      "execution_count": 2,
      "outputs": []
    },
    {
      "cell_type": "code",
      "metadata": {
        "colab": {
          "base_uri": "https://localhost:8080/"
        },
        "id": "esCRYaKxeEcu",
        "outputId": "96e4e7c3-cc9a-4ae0-f845-e8701983f804"
      },
      "source": [
        "matrix = cv_file.getNode(\"camera_matrix\").mat()\r\n",
        "print(\"read matrix\\n\", matrix)"
      ],
      "execution_count": 4,
      "outputs": [
        {
          "output_type": "stream",
          "text": [
            "read matrix\n",
            " [[425.81151398   0.         481.75802556]\n",
            " [  0.         435.33255746 267.43704186]\n",
            " [  0.           0.           1.        ]]\n"
          ],
          "name": "stdout"
        }
      ]
    },
    {
      "cell_type": "code",
      "metadata": {
        "colab": {
          "base_uri": "https://localhost:8080/"
        },
        "id": "fKnqkAHYeaJ_",
        "outputId": "a9e235fd-e412-4de7-de01-d7f99442cd1f"
      },
      "source": [
        "dist_coeffs = cv_file.getNode('distortion_coefficients').mat()\r\n",
        "print(\"dist_coeffs\\n\", dist_coeffs)"
      ],
      "execution_count": 6,
      "outputs": [
        {
          "output_type": "stream",
          "text": [
            "dist_coeffs\n",
            " [[ 4.44290018e+00]\n",
            " [ 2.76490305e+00]\n",
            " [-4.52039013e-03]\n",
            " [-1.82178053e-03]\n",
            " [ 0.00000000e+00]\n",
            " [ 4.70565765e+00]\n",
            " [ 3.93432913e+00]\n",
            " [ 3.39107454e-01]\n",
            " [ 0.00000000e+00]\n",
            " [ 0.00000000e+00]\n",
            " [ 0.00000000e+00]\n",
            " [ 0.00000000e+00]\n",
            " [ 0.00000000e+00]\n",
            " [ 0.00000000e+00]]\n"
          ],
          "name": "stdout"
        }
      ]
    },
    {
      "cell_type": "code",
      "metadata": {
        "id": "2nva4PYkeiTl"
      },
      "source": [
        "img = cv2.imread('GOPR01170000.jpg')\r\n"
      ],
      "execution_count": 11,
      "outputs": []
    },
    {
      "cell_type": "code",
      "metadata": {
        "id": "zpy1nlJ0c_ZM"
      },
      "source": [
        "\r\n",
        "h,  w = img.shape[:2]\r\n",
        "newcameramtx, roi=cv2.getOptimalNewCameraMatrix(matrix,dist_coeffs,(w,h),1,(w,h))\r\n"
      ],
      "execution_count": 14,
      "outputs": []
    },
    {
      "cell_type": "code",
      "metadata": {
        "colab": {
          "base_uri": "https://localhost:8080/"
        },
        "id": "88IMTIoHdukb",
        "outputId": "eac5ea43-6633-4ffc-8a09-fd76e3b9b18c"
      },
      "source": [
        "# undistort\r\n",
        "dst = cv2.undistort(img, matrix, dist_coeffs, None, newcameramtx)\r\n",
        "\r\n",
        "# crop the image\r\n",
        "x,y,w,h = roi\r\n",
        "dst = dst[y:y+h, x:x+w]\r\n",
        "cv2.imwrite('result.png',dst)"
      ],
      "execution_count": 17,
      "outputs": [
        {
          "output_type": "execute_result",
          "data": {
            "text/plain": [
              "True"
            ]
          },
          "metadata": {
            "tags": []
          },
          "execution_count": 17
        }
      ]
    }
  ]
}